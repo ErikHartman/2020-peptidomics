{
 "cells": [
  {
   "cell_type": "code",
   "execution_count": 21,
   "metadata": {},
   "outputs": [
    {
     "name": "stderr",
     "output_type": "stream",
     "text": [
      "Warning message in install.packages(\"http://www.maths.lu.se/fileadmin/maths/forskning_research/Undervisningsmaterial/raknaMedVariation_1.1.2.tar.gz\", :\n",
      "\"installation of package 'C:/Users/erikh/AppData/Local/Temp/Rtmpyal6q7/downloaded_packages/raknaMedVariation_1.1.2.tar.gz' had non-zero exit status\""
     ]
    }
   ],
   "source": [
    "source(\"raknaMedVariation_.R\")"
   ]
  },
  {
   "cell_type": "code",
   "execution_count": 22,
   "metadata": {},
   "outputs": [
    {
     "name": "stderr",
     "output_type": "stream",
     "text": [
      "Warning message:\n",
      "\"packages 'MASS', 'evd' are in use and will not be installed\"also installing the dependency 'htmltools'\n",
      "\n"
     ]
    },
    {
     "name": "stdout",
     "output_type": "stream",
     "text": [
      "package 'htmltools' successfully unpacked and MD5 sums checked\n"
     ]
    },
    {
     "name": "stderr",
     "output_type": "stream",
     "text": [
      "Warning message:\n",
      "\"cannot remove prior installation of package 'htmltools'\"Warning message in file.copy(savedcopy, lib, recursive = TRUE):\n",
      "\"problem copying C:\\Users\\erikh\\anaconda3\\Lib\\R\\library\\00LOCK\\htmltools\\libs\\x64\\htmltools.dll to C:\\Users\\erikh\\anaconda3\\Lib\\R\\library\\htmltools\\libs\\x64\\htmltools.dll: Permission denied\"Warning message:\n",
      "\"restored 'htmltools'\""
     ]
    },
    {
     "name": "stdout",
     "output_type": "stream",
     "text": [
      "package 'shiny' successfully unpacked and MD5 sums checked\n",
      "package 'plot3D' successfully unpacked and MD5 sums checked\n",
      "\n",
      "The downloaded binary packages are in\n",
      "\tC:\\Users\\erikh\\AppData\\Local\\Temp\\Rtmpyal6q7\\downloaded_packages\n"
     ]
    },
    {
     "name": "stderr",
     "output_type": "stream",
     "text": [
      "Loading required package: shiny\n",
      "Warning message:\n",
      "\"package 'shiny' was built under R version 3.6.3\"Error: package or namespace load failed for 'shiny' in loadNamespace(i, c(lib.loc, .libPaths()), versionCheck = vI[[i]]):\n",
      " namespace 'htmltools' 0.3.6 is already loaded, but >= 0.4.0.9003 is required\n"
     ]
    },
    {
     "ename": "ERROR",
     "evalue": "Error: package 'shiny' could not be loaded\n",
     "output_type": "error",
     "traceback": [
      "Error: package 'shiny' could not be loaded\nTraceback:\n",
      "1. library(raknaMedVariation)",
      "2. .getRequiredPackages2(pkgInfo, quietly = quietly)",
      "3. stop(gettextf(\"package %s could not be loaded\", sQuote(pkg)), \n .     call. = FALSE, domain = NA)"
     ]
    }
   ],
   "source": [
    "install.packages(c(\"MASS\", \"evd\", \"shiny\", \"plot3D\"), type=\"binary\")\n",
    "library(raknaMedVariation)"
   ]
  },
  {
   "cell_type": "code",
   "execution_count": 23,
   "metadata": {},
   "outputs": [
    {
     "ename": "ERROR",
     "evalue": "Error in as.environment(pos): no item called \"package:raknaMedVariation\" on the search list\n",
     "output_type": "error",
     "traceback": [
      "Error in as.environment(pos): no item called \"package:raknaMedVariation\" on the search list\nTraceback:\n",
      "1. lsf.str(\"package:raknaMedVariation\")"
     ]
    }
   ],
   "source": [
    "lsf.str(\"package:raknaMedVariation\")"
   ]
  },
  {
   "cell_type": "code",
   "execution_count": 30,
   "metadata": {},
   "outputs": [],
   "source": [
    "data=data(package=\"raknaMedVariation\")\n"
   ]
  },
  {
   "cell_type": "code",
   "execution_count": 39,
   "metadata": {},
   "outputs": [
    {
     "name": "stderr",
     "output_type": "stream",
     "text": [
      "Warning message in data(item):\n",
      "\"data set 'item' not found\""
     ]
    }
   ],
   "source": []
  }
 ],
 "metadata": {
  "kernelspec": {
   "display_name": "R",
   "language": "R",
   "name": "ir"
  },
  "language_info": {
   "codemirror_mode": "r",
   "file_extension": ".r",
   "mimetype": "text/x-r-source",
   "name": "R",
   "pygments_lexer": "r",
   "version": "3.6.1"
  }
 },
 "nbformat": 4,
 "nbformat_minor": 4
}
